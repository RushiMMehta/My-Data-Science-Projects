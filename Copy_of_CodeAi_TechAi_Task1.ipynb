{
  "nbformat": 4,
  "nbformat_minor": 0,
  "metadata": {
    "colab": {
      "provenance": []
    },
    "kernelspec": {
      "name": "python3",
      "display_name": "Python 3"
    },
    "language_info": {
      "name": "python"
    }
  },
  "cells": [
    {
      "cell_type": "markdown",
      "source": [
        "# ***FOR DOING THE TASK MAKE THE COPY OF THIS COLLAB FILE IN YOUR DRIVE***"
      ],
      "metadata": {
        "id": "XnP1PxmLWjlC"
      }
    },
    {
      "cell_type": "markdown",
      "source": [
        "### 1. Python Basics & Control Structures\n",
        "\n",
        "*Task*:\n",
        "\n",
        "* Write a Python program that:\n",
        "\n",
        "  * Takes a list of strings (e.g., [\"apple\", \"banana\", \"grape\", \"kiwi\", \"orange\"]).\n",
        "  * Filters out fruits with more than 5 characters using a for loop and if statement.\n",
        "  * For each fruit, print its length.\n",
        "\n",
        "*Example Input*:\n",
        "\n",
        "python\n",
        "fruits = [\"apple\", \"banana\", \"grape\", \"kiwi\", \"orange\"]"
      ],
      "metadata": {
        "id": "RBNeAaOLxbe5"
      }
    },
    {
      "cell_type": "code",
      "execution_count": null,
      "metadata": {
        "id": "NcI_p7F0vFhz",
        "outputId": "8dade928-f84a-4a7b-9fe1-112a41e5469b",
        "colab": {
          "base_uri": "https://localhost:8080/"
        }
      },
      "outputs": [
        {
          "output_type": "stream",
          "name": "stdout",
          "text": [
            "The fruit apple has 5 characters.\n",
            "The fruit banana has 6 characters.\n",
            "The fruit grape has 5 characters.\n",
            "The fruit orange has 6 characters.\n"
          ]
        }
      ],
      "source": [
        "fruits = [\"apple\", \"banana\", \"grape\", \"kiwi\", \"orange\"]\n",
        "ans = []\n",
        "for i in fruits:\n",
        "  if len(i)>= 5:\n",
        "    ans.append(i)\n",
        "for i in ans:\n",
        "  print(f\"The fruit {i} has {len(i)} characters.\")"
      ]
    },
    {
      "cell_type": "markdown",
      "source": [
        "\n",
        "*Expected Output*:\n",
        "\n",
        "\n",
        "The fruit apple has 5 characters.\n",
        "\n",
        "The fruit banana has 6 characters.\n",
        "\n",
        "The fruit orange has 6 characters.\n"
      ],
      "metadata": {
        "id": "sQeiBzi9xjIl"
      }
    },
    {
      "cell_type": "markdown",
      "source": [
        "### 2. Functions & Lambda\n",
        "\n",
        "*Task*:\n",
        "\n",
        "* Write a function that takes a list of integers and a threshold value. Use a **lambda* function inside filter() to return a list of numbers greater than the threshold.\n",
        "\n",
        "\n",
        "  # Test the function with a list [1, 5, 10, 3, 8] and threshold 5\n",
        "\n",
        "\n",
        "\n",
        "\n"
      ],
      "metadata": {
        "id": "k12WGkNoyAgY"
      }
    },
    {
      "cell_type": "code",
      "source": [
        "nos = [1, 5, 10, 3, 8]\n",
        "threshold = 5\n",
        "ans = list(filter(lambda x: x>threshold, nos))\n",
        "print(ans)"
      ],
      "metadata": {
        "id": "xSLokk2iy1OQ",
        "outputId": "5449b5e7-b4ea-4f1f-a900-5d12d1e18e57",
        "colab": {
          "base_uri": "https://localhost:8080/"
        }
      },
      "execution_count": null,
      "outputs": [
        {
          "output_type": "stream",
          "name": "stdout",
          "text": [
            "[10, 8]\n"
          ]
        }
      ]
    },
    {
      "cell_type": "markdown",
      "source": [
        "### 3. Object-Oriented Programming (OOP)\n",
        "\n",
        "*Task*:\n",
        "\n",
        "* Implement a BankAccount class with methods for depositing, withdrawing, transferring, and checking balance.\n",
        "* Implement *Polymorphism* by overriding the __str__ method to provide a custom string representation of the account.\n",
        "\n",
        "\n",
        "# Example\n",
        "account_a = BankAccount(\"A123\", \"Alice\", 1000)\n",
        "\n",
        "account_b = BankAccount(\"B456\", \"Bob\", 500)\n",
        "\n",
        "account_a.deposit(200)\n",
        "\n",
        "account_a.transfer(300, account_b)\n"
      ],
      "metadata": {
        "id": "qFz4IBidxuK8"
      }
    },
    {
      "cell_type": "code",
      "source": [
        "class BankAccount:\n",
        "  Balance =0\n",
        "  Account_Number = \"\"\n",
        "  Holder_Name = \"\"\n",
        "  def __init__(self,Account_Number,Holder_Name,Balance):\n",
        "    self.Account_Number = Account_Number\n",
        "    self.Holder_Name = Holder_Name\n",
        "    self.Balance = Balance\n",
        "\n",
        "  def deposit(self,amount):\n",
        "    self.Balance += amount\n",
        "\n",
        "  def withdraw(self,amount):\n",
        "    if self.Balance >= amount:\n",
        "      self.Balance -= amount\n",
        "    else:\n",
        "      print(\"Insufficient Balance\")\n",
        "\n",
        "  def transfer(self,amount,account):\n",
        "    self.withdraw(amount)\n",
        "    account.deposit(amount)\n",
        "\n",
        "  def print_balance(self):\n",
        "    print(f\"The balance of {self.Holder_Name} is {self.Balance}\")\n",
        "\n",
        "  def __str__(self):\n",
        "    return f\"BankAccount(Account Number: {self.Account_Number}, Holder: {self.Holder_Name}, Balance: ₹{self.Balance})\"\n",
        "\n",
        "account_a = BankAccount(\"A123\", \"Alice\", 1000)\n",
        "account_b = BankAccount(\"B456\", \"Bob\", 500)\n",
        "print(account_a)\n",
        "print(account_b)\n",
        "account_a.deposit(200)\n",
        "account_a.transfer(300, account_b)\n",
        "print(account_a)\n",
        "print(account_b)"
      ],
      "metadata": {
        "id": "nkl25hP8zWJQ",
        "outputId": "60956c1a-f101-41ba-d4e8-21592f9bfd48",
        "colab": {
          "base_uri": "https://localhost:8080/"
        }
      },
      "execution_count": null,
      "outputs": [
        {
          "output_type": "stream",
          "name": "stdout",
          "text": [
            "BankAccount(Account Number: A123, Holder: Alice, Balance: ₹1000)\n",
            "BankAccount(Account Number: B456, Holder: Bob, Balance: ₹500)\n",
            "BankAccount(Account Number: A123, Holder: Alice, Balance: ₹900)\n",
            "BankAccount(Account Number: B456, Holder: Bob, Balance: ₹800)\n"
          ]
        }
      ]
    },
    {
      "cell_type": "markdown",
      "source": [
        "### 4. Exception Handling\n",
        "\n",
        "*Task*:\n",
        "\n",
        "* Write a divide_numbers(a, b) function with exception handling:\n",
        "\n",
        "  * Handle division by zero and invalid input (non-numeric values).\n",
        "\n",
        "\n",
        "# Test the function\n",
        "print(divide_numbers(10, 2))   # Valid input\n",
        "\n",
        "print(divide_numbers(10, 0))   # Division by zero\n",
        "\n",
        "print(divide_numbers(\"ten\", 2))  # Invalid input"
      ],
      "metadata": {
        "id": "R9op0Bt0xttt"
      }
    },
    {
      "cell_type": "code",
      "source": [
        "def divide_numbers(a, b):\n",
        "    try:\n",
        "        a = float(a)\n",
        "        b = float(b)\n",
        "        result = a / b\n",
        "        print(f\"Result: {result}\")\n",
        "\n",
        "    except ZeroDivisionError:\n",
        "        return \"Error: Division by zero is not allowed.\"\n",
        "\n",
        "    except ValueError:\n",
        "        return \"Error: Please enter numeric values only.\"\n",
        "\n",
        "    except TypeError:\n",
        "        return \"Error: Both inputs must be numbers.\"\n",
        "\n",
        "    except Exception as e:\n",
        "        return f\"Unexpected Error: {e}\"\n",
        "\n",
        "\n",
        "print(divide_numbers(10, 2))\n",
        "print(divide_numbers(10, 0))\n",
        "print(divide_numbers(\"ten\", 2))"
      ],
      "metadata": {
        "id": "DEZfXk4V0A8_",
        "outputId": "c817ffe1-6142-4568-e609-65ba8e09968d",
        "colab": {
          "base_uri": "https://localhost:8080/"
        }
      },
      "execution_count": null,
      "outputs": [
        {
          "output_type": "stream",
          "name": "stdout",
          "text": [
            "Result: 5.0\n",
            "None\n",
            "Error: Division by zero is not allowed.\n",
            "Error: Please enter numeric values only.\n"
          ]
        }
      ]
    },
    {
      "cell_type": "markdown",
      "source": [
        "*Example Expected Output*:\n",
        "\n",
        "\n",
        "5.0\n",
        "\n",
        "Cannot divide by zero\n",
        "\n",
        "Invalid input, please enter numbers"
      ],
      "metadata": {
        "id": "UAfaux4e0LsB"
      }
    },
    {
      "cell_type": "markdown",
      "source": [
        "### 5. Python Modules & File Handling\n",
        "\n",
        "*Task*:\n",
        "\n",
        "* Write a Python program to:\n",
        "\n",
        "  * Create a text file \"students.txt\" with student names and marks.\n",
        "  * Read the file and print names of students with marks above 80.\n",
        "\n",
        "\n",
        "\n",
        "\n"
      ],
      "metadata": {
        "id": "_zo-t7xZ0ayU"
      }
    },
    {
      "cell_type": "code",
      "source": [
        "with open(\"students.txt\", \"w\") as file:\n",
        "    file.write(\"Alice 85\\n\")\n",
        "    file.write(\"Bob 72\\n\")\n",
        "    file.write(\"Charlie 90\\n\")\n",
        "    file.write(\"David 65\\n\")\n",
        "    file.write(\"Eva 95\\n\")\n",
        "with open(\"students.txt\", \"r\") as file:\n",
        "  for line in file:\n",
        "    data = line.strip().split()\n",
        "    name = data[0]\n",
        "    marks = int(data[1])\n",
        "\n",
        "    if marks > 80:\n",
        "      print(name)"
      ],
      "metadata": {
        "id": "kp3PLXuv0_cU",
        "outputId": "efee5ea2-e0b8-4a56-da59-4cb299837d75",
        "colab": {
          "base_uri": "https://localhost:8080/"
        }
      },
      "execution_count": null,
      "outputs": [
        {
          "output_type": "stream",
          "name": "stdout",
          "text": [
            "Alice\n",
            "Charlie\n",
            "Eva\n"
          ]
        }
      ]
    },
    {
      "cell_type": "markdown",
      "source": [
        "\n",
        "*Expected Output*:\n",
        "\n",
        "\n",
        "Alice\n",
        "\n",
        "Bob\n",
        "\n",
        "David\n"
      ],
      "metadata": {
        "id": "BGTgVTJZ0_7b"
      }
    },
    {
      "cell_type": "markdown",
      "source": [
        "### 6. Regular Expressions\n",
        "\n",
        "*Task*:\n",
        "\n",
        "* Write a Python function extract_phone_numbers(text) that extracts all phone numbers from a given text. The phone numbers should be in the format (xxx) xxx-xxxx.\n",
        "\n",
        "\n",
        "sample_text = (\n",
        "    \"For any support regarding our Bangalore office, call us at +91-9876543210 between 9 AM to 6 PM. \"\n",
        "    \"If you are located in Mumbai, you can also reach our helpdesk at 9123456789 for urgent assistance. \"\n",
        "    \"Additionally, our Delhi branch can be contacted at +91-9988776655 during weekdays.\"\n",
        ")\n",
        "\n",
        "\n",
        "\n",
        "\n",
        "*Expected Output*:\n",
        "\n",
        "\n",
        "['+91-9876543210', '+91-9988776655']\n"
      ],
      "metadata": {
        "id": "buuDAsX_2ZEg"
      }
    },
    {
      "cell_type": "code",
      "source": [
        "def extract_phone_numbers(text):\n",
        "    phone_numbers = []\n",
        "    i = 0\n",
        "    length = len(text)\n",
        "\n",
        "    while i < length-14:\n",
        "        if text[i:i+4] == \"+91-\":\n",
        "            potential_number = text[i:i+14]\n",
        "            if potential_number[4:].isdigit():\n",
        "                phone_numbers.append(potential_number)\n",
        "            i += 14\n",
        "        else:\n",
        "            i += 1\n",
        "    return phone_numbers\n",
        "sample_text = (\n",
        "    \"For any support regarding our Bangalore office, call us at +91-9876543210 between 9 AM to 6 PM. \"\n",
        "    \"If you are located in Mumbai, you can also reach our helpdesk at 9123456789 for urgent assistance. \"\n",
        "    \"Additionally, our Delhi branch can be contacted at +91-9988776655 during weekdays.\"\n",
        ")\n",
        "result = extract_phone_numbers(sample_text)\n",
        "print(result)"
      ],
      "metadata": {
        "id": "Nx0oXsT92Ytu",
        "outputId": "94dd6b1d-e006-447c-80f1-16c2f737cd8c",
        "colab": {
          "base_uri": "https://localhost:8080/"
        }
      },
      "execution_count": null,
      "outputs": [
        {
          "output_type": "stream",
          "name": "stdout",
          "text": [
            "['+91-9876543210', '+91-9988776655']\n"
          ]
        }
      ]
    },
    {
      "cell_type": "markdown",
      "source": [
        "\n",
        "*Expected Output*:\n",
        "\n",
        "\n",
        "['+91-9876543210', '+91-9988776655']"
      ],
      "metadata": {
        "id": "6uPEN50JQ4IP"
      }
    }
  ]
}